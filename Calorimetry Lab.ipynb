{
 "cells": [
  {
   "cell_type": "code",
   "execution_count": 1,
   "metadata": {},
   "outputs": [],
   "source": [
    "import numpy as np"
   ]
  },
  {
   "cell_type": "markdown",
   "metadata": {},
   "source": [
    "# General understanding"
   ]
  },
  {
   "cell_type": "markdown",
   "metadata": {},
   "source": [
    "### Following my example, convert the energy values for the following food items from kcal g⁻¹ to the SI equivalent in MJ kg⁻¹. *Be sure to round to the correct number of significant figures.* **(1 mark per answer, 3 total)**"
   ]
  },
  {
   "cell_type": "markdown",
   "metadata": {},
   "source": [
    "<table style='float:left'>\n",
    "    <tr>\n",
    "        <th style='text-align:left'>Food</th><th style='text-align:center'>Energy<br>kcal (100 g)⁻¹</th>\n",
    "    </tr>\n",
    "    <tr>\n",
    "        <td style='text-align:left'>Tic Tacs</td><td>386</td>\n",
    "    </tr>\n",
    "    <tr>\n",
    "        <td style='text-align:left'>Bitesize shredded wheat</td><td>149</td>\n",
    "    </tr>\n",
    "    <tr>\n",
    "        <td style='text-align:left'>Oatmeal</td><td>370</td>\n",
    "    </tr>\n",
    "    <tr>\n",
    "        <td style='text-align:left'>Vegetable oil</td><td>900</td>\n",
    "    </tr>\n",
    "</table>"
   ]
  },
  {
   "cell_type": "code",
   "execution_count": 2,
   "metadata": {
    "scrolled": true
   },
   "outputs": [
    {
     "name": "stdout",
     "output_type": "stream",
     "text": [
      "Tic Tacs: 16.2 MJ kg⁻¹\n"
     ]
    }
   ],
   "source": [
    "print('Tic Tacs: {:.1f} MJ kg⁻¹'.format(386*4.184/100))"
   ]
  },
  {
   "cell_type": "code",
   "execution_count": 3,
   "metadata": {
    "scrolled": true
   },
   "outputs": [
    {
     "name": "stdout",
     "output_type": "stream",
     "text": [
      "Bitesize shredded wheat: 6.23 MJ kg⁻¹\n",
      "Oatmeal: 15.5 MJ kg⁻¹\n",
      "Vegetable oil: 37.7 MJ kg⁻¹\n"
     ]
    }
   ],
   "source": [
    "print('Bitesize shredded wheat: {:.2f} MJ kg⁻¹'.format(149*4.184/100))\n",
    "print('Oatmeal: {:.1f} MJ kg⁻¹'.format(370*4.184/100,1))\n",
    "print('Vegetable oil: {:.1f} MJ kg⁻¹'.format(900*4.184/100,1))"
   ]
  },
  {
   "cell_type": "markdown",
   "metadata": {},
   "source": [
    "# Coffee cup calorimetry"
   ]
  },
  {
   "cell_type": "markdown",
   "metadata": {},
   "source": [
    "## Specific heat capacity determination"
   ]
  },
  {
   "cell_type": "markdown",
   "metadata": {},
   "source": [
    "### Use your Jupyter notebook to calculate the missing values in red. Refer to Blackboard to get the values you should use in the spots marked with blue capital letters."
   ]
  },
  {
   "cell_type": "markdown",
   "metadata": {},
   "source": [
    "*I've filled in model values that are different from any of those that are assigned.*"
   ]
  },
  {
   "cell_type": "markdown",
   "metadata": {},
   "source": [
    "<table style='float:left'>\n",
    "    <tr>\n",
    "        <th style='text-align:left'>measurement</th><th>value</th><th style='text-align:center'>absolute<br>uncertainty</th>\n",
    "    </tr>\n",
    "    <tr>\n",
    "        <td style='text-align:left'>mass of empty coffee cups (g)</td><td style=\"color:blue\">M_CUP_A</td><td>±0.001</td>\n",
    "    </tr>\n",
    "    <tr>\n",
    "        <td style='text-align:left'>mass of water-filled cups (g)</td><td style=\"color:blue\">M_CUP_WATER_A</td><td>±0.001</td>\n",
    "    </tr>\n",
    "    <tr>\n",
    "        <td style='text-align:left'>mass of cups with water and sample (g)</td><td style=\"color:blue\">M_CUP_WATER_SAMPLE_A</td><td>±0.01</td>\n",
    "    </tr>\n",
    "    <tr>\n",
    "        <td style='text-align:left'>initial temperature water (°C)</td><td style=\"color:blue\">T_WATER_A</td><td>±0.3</td>\n",
    "    </tr>\n",
    "    <tr>\n",
    "        <td style='text-align:left'>initial temperature sample (°C)</td><td style=\"color:blue\">T_SAMPLE_A</td><td>±2</td>\n",
    "    </tr>\n",
    "    <tr>\n",
    "        <td style='text-align:left'>final temperature (°C)</td><td style=\"color:blue\">T_FINAL_A</td><td>±0.3</td>\n",
    "    </tr>\n",
    "    <tr>\n",
    "        <td style='text-align:left'>mass water (g)</td><td style=\"color:red\">m_water</td><td style=\"color:red\">err_m_water</td>\n",
    "    </tr>\n",
    "    <tr>\n",
    "        <td style='text-align:left'>mass sample (g)</td><td style=\"color:red\">m_sample</td><td style=\"color:red\">err_m_sample</td>\n",
    "    </tr>\n",
    "    <tr>\n",
    "        <td style='text-align:left'>temperature change water (K)</td><td style=\"color:red\">delta_T_water</td><td style=\"color:red\">err_delta_T_water</td>\n",
    "    </tr>\n",
    "    <tr>\n",
    "        <td style='text-align:left'>temperature change sample (K)</td><td style=\"color:red\">delta_T_sample</td><td style=\"color:red\">err_delta_T_sample</td>\n",
    "    </tr>\n",
    "    <tr>\n",
    "        <td style='text-align:left'>heat capacity of liquid water (kJ kg⁻¹ K⁻¹)</td><td>4.184</td><td>0.004</td>\n",
    "    </tr>\n",
    "    <tr>\n",
    "        <td style='text-align:left'>heat capacity of sample (kJ kg⁻¹ K⁻¹)</td><td style=\"color:red\">cp_sample</td><td style=\"color:red\">err_cp_sample</td>\n",
    "    </tr>\n",
    "</table>"
   ]
  },
  {
   "cell_type": "markdown",
   "metadata": {},
   "source": [
    "### Calculate the value of *m_water*, *m_sample*, *delta_T_water*, and *delta_T_sample* **(1 mark each, 4 total)**"
   ]
  },
  {
   "cell_type": "code",
   "execution_count": 4,
   "metadata": {},
   "outputs": [
    {
     "name": "stdout",
     "output_type": "stream",
     "text": [
      "Mass of water: 59.616 g\n",
      "Mass of sample: 163.277 g\n",
      "∆T water: 7.2 °C\n",
      "∆T sample: -77 °C\n"
     ]
    }
   ],
   "source": [
    "M_CUP_A = 5.207 # mass empty coffee cups\n",
    "M_CUP_WATER_A = 64.823 # same cups with water\n",
    "M_CUP_WATER_SAMPLE_A = 228.100 # same cups with water and sample\n",
    "T_WATER_A = 15.2 # temperature of tap water at the start\n",
    "T_SAMPLE_A = 99 # temperature of the sample taken out of the oven\n",
    "T_FINAL_A = 22.4 # final temperature of the whole lot\n",
    "cp_water = 4.184 # heat capacity of the water from the table\n",
    "\n",
    "# named new variable based on what's in the table\n",
    "err_M_CUP_A = 0.001 # uncertainty in the mass of the coffee cups\n",
    "err_M_CUP_WATER_A = 0.001 # uncertainty in the mass of the coffee cups + water\n",
    "err_M_CUP_WATER_SAMPLE_A = 0.01 # uncertainty in the mass of the coffee cups + water + sample\n",
    "err_T_WATER_A = 0.3 # uncertainty in the initial water temperature\n",
    "err_T_SAMPLE_A = 2. # uncertainty in the sample temperature\n",
    "err_T_FINAL_A = 0.3 # uncertainty in the final temperature of the everything together\n",
    "err_cp_water = 0.004 # uncertainty in the heat capacity of the water (table)\n",
    "\n",
    "# the calculations\n",
    "m_water = M_CUP_WATER_A - M_CUP_A # mass of the water, by difference\n",
    "m_sample = M_CUP_WATER_SAMPLE_A - M_CUP_WATER_A # mass of the sample, by difference\n",
    "delta_T_water = T_FINAL_A - T_WATER_A # temperature change of the water\n",
    "delta_T_sample = T_FINAL_A - T_SAMPLE_A # temperature change of the sample\n",
    "\n",
    "# output the results\n",
    "print('Mass of water: {:.3f} g'.format(m_water))\n",
    "print('Mass of sample: {:.3f} g'.format(m_sample))\n",
    "print('∆T water: {:.1f} °C'.format(delta_T_water))\n",
    "print('∆T sample: {:.0f} °C'.format(delta_T_sample))"
   ]
  },
  {
   "cell_type": "markdown",
   "metadata": {},
   "source": [
    "### Calculate the associated uncertainty values for *m_water*, *m_sample*, *delta_T_water*, and *delta_T_sample* (that is, *err_m_water*, *err_m_sample*, *err_delta_T_water* and *err_delta_T_sample*) **(2 marks each, 8 total)**"
   ]
  },
  {
   "cell_type": "code",
   "execution_count": 5,
   "metadata": {
    "scrolled": true
   },
   "outputs": [
    {
     "name": "stdout",
     "output_type": "stream",
     "text": [
      "Uncertainty in the mass of water: 0.001414 g\n",
      "Uncertainty in the mass of the sample: 0.010050 g\n",
      "Uncertainty in the temperature change of the water: 0.424264 °C\n",
      "Uncertainty in the temperature change of the sample: 2.022375 °C\n"
     ]
    }
   ],
   "source": [
    "# all of these are done using absolute errors because the operation is addition/subtraction\n",
    "err_m_water = np.sqrt(err_M_CUP_WATER_A**2 + err_M_CUP_A**2) # uncertainty in the mass of the water\n",
    "err_m_sample = np.sqrt(err_M_CUP_WATER_SAMPLE_A**2 + err_M_CUP_WATER_A**2) # uncertainty in the mass of the sample\n",
    "err_delta_T_water = np.sqrt(err_T_FINAL_A**2 + err_T_WATER_A**2) # uncert in the temperature change of the water\n",
    "err_delta_T_sample = np.sqrt(err_T_FINAL_A**2 + err_T_SAMPLE_A**2) # uncert in the temperature change of the sample\n",
    "\n",
    "# output the results\n",
    "print('Uncertainty in the mass of water: {:f} g'.format(err_m_water))\n",
    "print('Uncertainty in the mass of the sample: {:f} g'.format(err_m_sample))\n",
    "print('Uncertainty in the temperature change of the water: {:f} °C'.format(err_delta_T_water))\n",
    "print('Uncertainty in the temperature change of the sample: {:f} °C'.format(err_delta_T_sample))"
   ]
  },
  {
   "cell_type": "markdown",
   "metadata": {},
   "source": [
    "### Calculate the value of the heat capacity of the sample, *cp_sample* **(3 marks)**"
   ]
  },
  {
   "cell_type": "code",
   "execution_count": 6,
   "metadata": {
    "scrolled": true
   },
   "outputs": [
    {
     "name": "stdout",
     "output_type": "stream",
     "text": [
      "Heat capacity of sample: 0.143593 kJ kg⁻¹ K⁻¹\n"
     ]
    }
   ],
   "source": [
    "denom_A = m_sample * delta_T_sample # the denominators shown in equations 7 and 10 have this common factor\n",
    "cp_sample = -m_water * cp_water * delta_T_water / denom_A # heat capacity of the sample (equation 7)\n",
    "print('Heat capacity of sample: {:f} kJ kg⁻¹ K⁻¹'.format(cp_sample)) # no rounding yet"
   ]
  },
  {
   "cell_type": "markdown",
   "metadata": {},
   "source": [
    "### Calculate the uncertainty in the heat capacity (that is, *err_cp_sample*) **(8 marks)**"
   ]
  },
  {
   "cell_type": "code",
   "execution_count": 7,
   "metadata": {
    "scrolled": true
   },
   "outputs": [
    {
     "name": "stdout",
     "output_type": "stream",
     "text": [
      "[-4.26029007e-02 -1.71694080e+00 -8.18636327e+01  7.48300032e+01\n",
      "  1.10540820e-01  4.68908636e+01]\n",
      "Uncertainty in the heat capacity of the sample: 0.009629 kJ kg⁻¹ K⁻¹\n"
     ]
    }
   ],
   "source": [
    "# working out each part under the square root separately to make it clearer\n",
    "num_A = np.zeros(6)\n",
    "num_A[0] = - err_m_water * cp_water * delta_T_water\n",
    "num_A[1] = - err_cp_water * m_water * delta_T_water\n",
    "num_A[2] = err_T_FINAL_A * cp_water * m_water * (T_SAMPLE_A - T_WATER_A) / delta_T_sample\n",
    "num_A[3] = err_T_WATER_A * cp_water * m_water\n",
    "num_A[4] = err_m_sample * cp_water * m_water * delta_T_water / m_sample\n",
    "num_A[5] = - err_T_SAMPLE_A * cp_water * m_water * delta_T_water / delta_T_sample\n",
    "print(num_A)\n",
    "err_cp_sample = np.sqrt(np.sum(num_A ** 2)) / abs(denom_A)\n",
    "print('Uncertainty in the heat capacity of the sample: {:f} kJ kg⁻¹ K⁻¹'.format(err_cp_sample))"
   ]
  },
  {
   "cell_type": "markdown",
   "metadata": {},
   "source": [
    "### Replace the *cp_sample* and *err_cp_sample* to express the final heat capacity of the material with its associated precision. Marks are awarded for correct rounding. **(2 marks)**"
   ]
  },
  {
   "cell_type": "markdown",
   "metadata": {},
   "source": [
    "(*0.1436* ± *0.0096*) kJ kg⁻¹ K⁻¹"
   ]
  },
  {
   "cell_type": "markdown",
   "metadata": {},
   "source": [
    "### Use your calculation for heat capacity to identify what material you measured using https://www.engineeringtoolbox.com/specific-heat-capacity-d_391.html. Take into account the uncertainty you determined for your measurement when giving your explanation. **(1 mark)**"
   ]
  },
  {
   "cell_type": "markdown",
   "metadata": {},
   "source": [
    "<div class=\"alert alert-block alert-info\">\n",
    "    <strong>Pleasse note</strong>\n",
    "    <br>\n",
    "    <ul>\n",
    "        <li>The table below is what was used to generate the values in the problems, but the identity does not need to match.</li>\n",
    "    </ul>\n",
    "    <table>\n",
    "        <tr>\n",
    "            <th style='text-align:left'>material</th><th>specific heat capacity<br>(kJ kg⁻¹ K⁻¹)</th>\n",
    "        </tr>\n",
    "        <tr>\n",
    "            <td style='text-align:left'>steel</td><td>0.49</td>\n",
    "        </tr>\n",
    "        <tr>\n",
    "            <td style='text-align:left'>brass (60% Cu, 40% Zn)</td><td>0.38</td>\n",
    "        </tr>\n",
    "        <tr>\n",
    "            <td style='text-align:left'>duralumin</td><td>0.92</td>\n",
    "        </tr>\n",
    "        <tr>\n",
    "            <td style='text-align:left'>porcelain</td><td>1.08</td>\n",
    "        </tr>\n",
    "        <tr>\n",
    "            <td style='text-align:left'>PET</td><td>1.25</td>\n",
    "        </tr>\n",
    "        <tr>\n",
    "            <td style='text-align:left'>nylon-6,6</td><td>1.70</td>\n",
    "        </tr>\n",
    "    </table>\n",
    "</div>"
   ]
  },
  {
   "cell_type": "markdown",
   "metadata": {},
   "source": [
    "### Discuss one possible sources of systematic error. **(1 mark)**"
   ]
  },
  {
   "cell_type": "markdown",
   "metadata": {},
   "source": [
    "<div class=\"alert alert-block alert-info\">\n",
    "    <ul>\n",
    "        <li>good reasons for systematic error include:</li>\n",
    "        <ul>\n",
    "            <li>not adiabatic</li>\n",
    "            <li>evaporation</li>\n",
    "            <li>thermometer/balance calibration</li>\n",
    "        </ul>\n",
    "        <li>less good reasons for systematic error include:</li>\n",
    "        <ul>\n",
    "            <li>Joule heating from stirring: not likely to be significant</li>\n",
    "            <li>oven temperature poorly known: not a dominant source of uncertainty</li>\n",
    "            <li>parallax error on reading: it’s hard to correct poor practice</li>\n",
    "        </ul>\n",
    "    </ul>\n",
    "</div>"
   ]
  },
  {
   "cell_type": "markdown",
   "metadata": {},
   "source": [
    "### Suggest how the size of that systematic error could be tested. **(2 marks)**"
   ]
  },
  {
   "cell_type": "markdown",
   "metadata": {},
   "source": [
    "<div class=\"alert alert-block alert-info\">\n",
    "    <strong>See below</strong><br>\n",
    "        <ul>\n",
    "            <li>not adiabatic: add more insulation, see how long it takes temperature to drop</li>\n",
    "            <li>evaporation: put on a cover, check the difference</li>\n",
    "            <li>thermometer/balance calibration: use another to check</li>\n",
    "            <li>Joule heating from stirring: oven temperature poorly known: use integrated thermometer in sample, check the effect of uncertainty on uncertainty of final answer</li>\n",
    "            <li>parallax error on reading: use digital thermometer</li>\n",
    "        </ul>\n",
    "    </ul>\n",
    "</div>"
   ]
  },
  {
   "cell_type": "markdown",
   "metadata": {},
   "source": [
    "## Heat of solution determination"
   ]
  },
  {
   "cell_type": "markdown",
   "metadata": {},
   "source": [
    "### Give the adiabatic heat balance for the dissolution of salt in water. Assume that salt does not change the heat capacity of the water and that the salt and water start at the same temperature. The units for heat of solution are J (g salt)⁻¹. **(3 marks)**"
   ]
  },
  {
   "cell_type": "markdown",
   "metadata": {},
   "source": [
    "$q = 0 = m_{\\textrm{water}} C_{p}^{\\textrm{water}} (T_{\\textrm{f}} – T_{\\textrm{i}}) + m_{\\textrm{salt}} \\Delta_{\\textrm{soln}}H$"
   ]
  },
  {
   "cell_type": "markdown",
   "metadata": {},
   "source": [
    "### Solve this equation for the heat of solution. **(4 marks)**"
   ]
  },
  {
   "cell_type": "markdown",
   "metadata": {},
   "source": [
    "$\\Delta_{\\textrm{soln}}H = -\\frac{m_{\\textrm{water}} C_{p}^{\\textrm{water}} (T_{\\textrm{f}} – T_{\\textrm{i}})}{m_{\\textrm{salt}}}$"
   ]
  },
  {
   "cell_type": "markdown",
   "metadata": {},
   "source": [
    "### Use your Jupyter notebook to calculate the missing values in red. Refer to Blackboard to get the values you should use in the spots marked with blue capital letters."
   ]
  },
  {
   "cell_type": "markdown",
   "metadata": {},
   "source": [
    "<table style='float:left'>\n",
    "    <tr>\n",
    "        <th style='text-align:left'>measurement</th><th>value</th><th style='text-align:center'>absolute<br>uncertainty</th>\n",
    "    </tr>\n",
    "    <tr>\n",
    "        <td style='text-align:left'>mass of empty coffee cups (g)</td><td style=\"color:blue\">M_CUP_B</td><td>±0.001</td>\n",
    "    </tr>\n",
    "    <tr>\n",
    "        <td style='text-align:left'>mass of water-filled cups (g)</td><td style=\"color:blue\">M_CUP_WATER_B</td><td>±0.001</td>\n",
    "    </tr>\n",
    "    <tr>\n",
    "        <td style='text-align:left'>mass of cups with water and salt (g)</td><td style=\"color:blue\">M_CUP_WATER_SALT_B</td><td>±0.001</td>\n",
    "    </tr>\n",
    "    <tr>\n",
    "        <td style='text-align:left'>initial temperature water (°C)</td><td style=\"color:blue\">T_WATER_I_B</td><td>±0.005</td>\n",
    "    </tr>\n",
    "    <tr>\n",
    "        <td style='text-align:left'>final temperature (°C)</td><td style=\"color:blue\">T_WATER_F_B</td><td>±0.005</td>\n",
    "    </tr>\n",
    "    <tr>\n",
    "        <td style='text-align:left'>mass water (g)</td><td style=\"color:red\">m_water</td><td style=\"color:red\">err_m_water</td>\n",
    "    </tr>\n",
    "    <tr>\n",
    "        <td style='text-align:left'>mass salt (g)</td><td style=\"color:red\">m_salt</td><td style=\"color:red\">err_m_salt</td>\n",
    "    </tr>\n",
    "    <tr>\n",
    "        <td style='text-align:left'>temperature change water (K)</td><td style=\"color:red\">delta_T</td><td style=\"color:red\">err_delta_T</td>\n",
    "    </tr>\n",
    "    <tr>\n",
    "        <td style='text-align:left'>heat capacity of liquid water (kJ kg⁻¹ K⁻¹)</td><td>4.184</td><td>0.004</td>\n",
    "    </tr>\n",
    "    <tr>\n",
    "        <td style='text-align:left'>heat of solution (MJ kg⁻¹)</td><td style=\"color:red\">Hsoln</td><td style=\"color:red\">err_Hsoln</td>\n",
    "    </tr>\n",
    "</table>"
   ]
  },
  {
   "cell_type": "markdown",
   "metadata": {},
   "source": [
    "### Calculate the values of *m_water*, *m_salt*, and *delta_T*. **(1 mark each, 3 marks total)**"
   ]
  },
  {
   "cell_type": "code",
   "execution_count": 8,
   "metadata": {
    "scrolled": true
   },
   "outputs": [
    {
     "name": "stdout",
     "output_type": "stream",
     "text": [
      "Mass of water: 102.180 g\n",
      "Mass of salt: 0.137 g\n",
      "Temperature change of solution: -0.054 °C\n"
     ]
    }
   ],
   "source": [
    "# initialise values\n",
    "M_CUP_B = 5.187\n",
    "M_CUP_WATER_B = 107.367\n",
    "M_CUP_WATER_SALT_B = 107.504\n",
    "T_WATER_I_B = 18.599\n",
    "T_WATER_F_B = 18.545\n",
    "\n",
    "# calculate values by difference\n",
    "m_water = M_CUP_WATER_B - M_CUP_B\n",
    "m_salt = M_CUP_WATER_SALT_B - M_CUP_WATER_B\n",
    "delta_T = T_WATER_F_B - T_WATER_I_B\n",
    "\n",
    "# output values\n",
    "print('Mass of water: {:.3f} g'.format(m_water))\n",
    "print('Mass of salt: {:.3f} g'.format(m_salt))\n",
    "print('Temperature change of solution: {:.3f} °C'.format(delta_T))"
   ]
  },
  {
   "cell_type": "markdown",
   "metadata": {},
   "source": [
    "### Calculate the associated uncertainty values for these calculations, *err_m_water*, *err_m_salt*, and *err_delta_T*. **(2 marks each, 6 marks total)**"
   ]
  },
  {
   "cell_type": "code",
   "execution_count": 9,
   "metadata": {
    "scrolled": true
   },
   "outputs": [
    {
     "name": "stdout",
     "output_type": "stream",
     "text": [
      "Uncertainty in mass of water: 0.001414 g\n",
      "Uncertainty in mass of salt: 0.001414 g\n",
      "Uncertainty in temperature change of solution: 0.007071 °C\n"
     ]
    }
   ],
   "source": [
    "# initialise values\n",
    "err_M_CUP_B = 0.001\n",
    "err_M_CUP_WATER_B = 0.001\n",
    "err_M_CUP_WATER_SALT_B = 0.001\n",
    "err_T_WATER_I_B = 0.005\n",
    "err_T_WATER_F_B = 0.005\n",
    "\n",
    "# using absolute errors because values are determined by subtraction\n",
    "err_m_water = np.sqrt(err_M_CUP_WATER_B ** 2 + err_M_CUP_B ** 2)\n",
    "err_m_salt = np.sqrt(err_M_CUP_WATER_SALT_B ** 2 + err_M_CUP_WATER_B ** 2)\n",
    "err_delta_T = np.sqrt(err_T_WATER_F_B ** 2 + err_T_WATER_I_B ** 2)\n",
    "\n",
    "# output values\n",
    "print('Uncertainty in mass of water: {:f} g'.format(err_m_water))\n",
    "print('Uncertainty in mass of salt: {:f} g'.format(err_m_salt))\n",
    "print('Uncertainty in temperature change of solution: {:f} °C'.format(err_delta_T))"
   ]
  },
  {
   "cell_type": "markdown",
   "metadata": {},
   "source": [
    "### Calculate the heat of solution for this salt, *Hsoln*. Note that the units need to be MJ kg⁻¹, not kJ kg⁻¹. (3 marks)"
   ]
  },
  {
   "cell_type": "code",
   "execution_count": 10,
   "metadata": {
    "scrolled": true
   },
   "outputs": [
    {
     "name": "stdout",
     "output_type": "stream",
     "text": [
      "Heat of solution: 0.168512 MJ kg⁻¹\n"
     ]
    }
   ],
   "source": [
    "# calculate based on equation determined above\n",
    "Hsoln = -cp_water * m_water * delta_T / m_salt / 1000 # divide by 1000 to get to MJ/kg\n",
    "\n",
    "# output values\n",
    "print('Heat of solution: {:f} MJ kg⁻¹'.format(Hsoln))"
   ]
  },
  {
   "cell_type": "markdown",
   "metadata": {},
   "source": [
    "### Calculate the uncertainty in this heat of solution, *err_Hsoln*. **(9 marks)**"
   ]
  },
  {
   "cell_type": "code",
   "execution_count": 11,
   "metadata": {
    "scrolled": true
   },
   "outputs": [
    {
     "name": "stdout",
     "output_type": "stream",
     "text": [
      "[-3.19521755e-04 -2.20708800e-02  2.13760560e+00 -2.13760560e+00\n",
      "  2.38311919e-01]\n",
      "Uncertainty in heat of solution: 0.022135 MJ kg⁻¹\n"
     ]
    }
   ],
   "source": [
    "# working out each part under the square root separately to make it clearer\n",
    "denom_B = -m_salt\n",
    "num_B = np.zeros(5)\n",
    "num_B[0] = err_m_water * cp_water * delta_T\n",
    "num_B[1] = err_cp_water * m_water * delta_T\n",
    "num_B[2] = err_T_WATER_F_B * cp_water * m_water\n",
    "num_B[3] = -err_T_WATER_I_B * cp_water * m_water\n",
    "num_B[4] = -err_m_salt * cp_water * m_water * delta_T / m_salt\n",
    "print(num_B)\n",
    "err_Hsoln = np.sqrt(np.sum(num_B ** 2)) / abs(denom_B) / 1000\n",
    "print('Uncertainty in heat of solution: {:f} MJ kg⁻¹'.format(err_Hsoln))"
   ]
  },
  {
   "cell_type": "markdown",
   "metadata": {},
   "source": [
    "### Replace the *Hsoln* and *err_Hsoln* to express the final value for the heat of solution with its associated precision. Marks are awarded for correct rounding. **(2 marks)**"
   ]
  },
  {
   "cell_type": "markdown",
   "metadata": {},
   "source": [
    "(*0.169* ± *0.022*) MJ (kg salt)⁻¹"
   ]
  },
  {
   "cell_type": "markdown",
   "metadata": {},
   "source": [
    "## Latent heat capacity determination"
   ]
  },
  {
   "cell_type": "markdown",
   "metadata": {},
   "source": [
    "### Solve the following heat balance equation for the heat of fusion of water. You'll find it easiest to copy the terms for the working equation. **(4 marks)**"
   ]
  },
  {
   "cell_type": "markdown",
   "metadata": {},
   "source": [
    "$q = 0 = m_{\\textrm{ice}} C_{p}^\\textrm{ice} (T_{\\textrm{fus}} - T_{\\textrm{ice}}) + m_{\\textrm{ice}} C_{p}^\\textrm{water} (T_{\\textrm{f}} – T_{\\textrm{fus}}) + m_{\\textrm{water}} C_{p}^\\textrm{water} (T_{\\textrm{f}} – T_{\\textrm{water}}) + m_{\\textrm{ice}} \\Delta_{\\textrm{fus}}H$"
   ]
  },
  {
   "cell_type": "markdown",
   "metadata": {},
   "source": [
    "$\\Delta_{\\textrm{fus}}H = \\frac{numerator}{denominator}$"
   ]
  },
  {
   "cell_type": "markdown",
   "metadata": {},
   "source": [
    "<div class=\"alert alert-block alert-info\">\n",
    "    $\\Delta_{\\textrm{fus}}H = -\\frac{m_{\\textrm{ice}} C_{p}^\\textrm{ice} (0\\textrm{ °C} - T_{\\textrm{ice}}) + m_{\\textrm{ice}} C_{p}^\\textrm{water} (T_{\\textrm{f}} - 0\\textrm{ °C}) + m_{\\textrm{water}} C_{p}^\\textrm{water} (T_{\\textrm{water}} - 0\\textrm{ °C})}{m_{\\textrm{ice}}}$\n",
    "    <br>\n",
    "    <br>The temperatures are in °C and none of the temperature has an exponent other than one, so this simplifies to\n",
    "    $\\Delta_{\\textrm{fus}}H = -\\frac{m_{\\textrm{ice}} (C_{p}^\\textrm{water} T_{\\textrm{f}} - C_{p}^\\textrm{ice} T_{\\textrm{ice}}) + m_{\\textrm{water}} C_{p}^\\textrm{water} (T_{\\textrm{f}} - T_{\\textrm{water}})}{m_{\\textrm{ice}}} = \\frac{m_{\\textrm{ice}} C_{p}^\\textrm{ice} T_{\\textrm{ice}} - C_{p}^\\textrm{water} (m_{\\textrm{ice}} T_{\\textrm{f}} + m_{\\textrm{water}} (T_{\\textrm{f}} - T_{\\textrm{water}}))}{m_{\\textrm{ice}}}$\n",
    "    <br>\n",
    "    <br>"
   ]
  },
  {
   "cell_type": "markdown",
   "metadata": {},
   "source": [
    "### Use your Jupyter notebook to calculate the missing values in red. Refer to Blackboard to get the values you should use in the spots marked with blue capital letters."
   ]
  },
  {
   "cell_type": "markdown",
   "metadata": {},
   "source": [
    "<table style='float:left'>\n",
    "    <tr>\n",
    "        <th style='text-align:left'>measurement</th><th>value</th><th style='text-align:center'>absolute<br>uncertainty</th>\n",
    "    </tr>\n",
    "    <tr>\n",
    "        <td style='text-align:left'>mass of empty coffee cups (g)</td><td style=\"color:blue\">M_CUP_C</td><td>±0.001</td>\n",
    "    </tr>\n",
    "    <tr>\n",
    "        <td style='text-align:left'>mass of water-filled cups (g)</td><td style=\"color:blue\">M_CUP_WATER_C</td><td>±0.001</td>\n",
    "    </tr>\n",
    "    <tr>\n",
    "        <td style='text-align:left'>mass of cups with water and melted ice (g)</td><td style=\"color:blue\">M_CUP_WATER_ICE_C</td><td>±0.001</td>\n",
    "    </tr>\n",
    "    <tr>\n",
    "        <td style='text-align:left'>initial temperature water (°C)</td><td style=\"color:blue\">T_WATER_C</td><td>±0.3</td>\n",
    "    </tr>\n",
    "    <tr>\n",
    "        <td style='text-align:left'>initial temperature ice (°C)</td><td style=\"color:blue\">T_ICE_C</td><td>±2</td>\n",
    "    </tr>\n",
    "    <tr>\n",
    "        <td style='text-align:left'>final temperature (°C)</td><td style=\"color:blue\">T_FINAL_C</td><td>±0.3</td>\n",
    "    </tr>\n",
    "    <tr>\n",
    "        <td style='text-align:left'>mass water (g)</td><td style=\"color:red\">m_water</td><td style=\"color:red\">err_m_water</td>\n",
    "    </tr>\n",
    "    <tr>\n",
    "        <td style='text-align:left'>mass ice (g)</td><td style=\"color:red\">m_ice</td><td style=\"color:red\">err_m_ice</td>\n",
    "    </tr>\n",
    "    <tr>\n",
    "        <td style='text-align:left'>temperature change ice to T<span style=\"font-size:60%;vertical-align:sub\">fus</span> (K)</td><td style=\"color:red\">delta_T1_ice</td><td style=\"color:red\">errdelta_T1_ice</td>\n",
    "    </tr>\n",
    "    <tr>\n",
    "        <td style='text-align:left'>temperature change T<span style=\"font-size:60%;vertical-align:sub\">fus</span> to T<span style=\"font-size:60%;vertical-align:sub\">final</span> (K)</td><td style=\"color:red\">delta_T2_ice</td><td style=\"color:red\">err_delta_T2_ice</td>\n",
    "    </tr>\n",
    "    <tr>\n",
    "        <td style='text-align:left'>temperature change water to T<span style=\"font-size:60%;vertical-align:sub\">final</span> (K)</td><td style=\"color:red\">delta_T_water</td><td style=\"color:red\">err_delta_T_water</td>\n",
    "    </tr>\n",
    "    <tr>\n",
    "        <td style='text-align:left'>heat capacity of liquid water (kJ kg⁻¹ K⁻¹)</td><td>4.184</td><td>0.004</td>\n",
    "    </tr>\n",
    "    <tr>\n",
    "        <td style='text-align:left'>heat capacity of solid water (kJ kg⁻¹ K⁻¹)</td><td>2.07</td><td>0.03</td>\n",
    "    </tr>\n",
    "    <tr>\n",
    "        <td style='text-align:left'>latent heat of fusion of ice (kJ kg⁻¹)</td><td style=\"color:red\">Hfus_water</td><td style=\"color:red\">err_Hfus_water</td>\n",
    "    </tr>\n",
    "</table>"
   ]
  },
  {
   "cell_type": "markdown",
   "metadata": {},
   "source": [
    "### Calculate the values of *m_water*, *m_ice*, *delta_T1_ice*, *delta_T2_ice* and *delta_T_water*. **(1 mark each, 5 marks total)**"
   ]
  },
  {
   "cell_type": "code",
   "execution_count": 12,
   "metadata": {
    "scrolled": true
   },
   "outputs": [
    {
     "name": "stdout",
     "output_type": "stream",
     "text": [
      "Mass water: 55.594 g\n",
      "Mass ice: 18.074 g\n",
      "Temperature change of ice to its melting point: 8.2 °C\n",
      "Temperature change of melted ice to the final temperature: 21.1 °C\n",
      "Temperature change of the water to its final temperature: -33.8 °C\n"
     ]
    }
   ],
   "source": [
    "# as before, initialise the values\n",
    "M_CUP_C = 5.259\n",
    "M_CUP_WATER_C = 60.853\n",
    "M_CUP_WATER_ICE_C = 78.927\n",
    "T_WATER_C = 54.9\n",
    "T_ICE_C = -8.2\n",
    "T_FINAL_C = 21.1\n",
    "cp_ice = 2.07\n",
    "\n",
    "# calculate all the required values by difference, keeping in mind we're assuming Tfus(H2O) is exactly 0 °C\n",
    "m_water = M_CUP_WATER_C - M_CUP_C\n",
    "m_ice = M_CUP_WATER_ICE_C - M_CUP_WATER_C\n",
    "delta_T1_ice = 0 - T_ICE_C\n",
    "delta_T2_ice = T_FINAL_C - 0\n",
    "delta_T_water = T_FINAL_C - T_WATER_C\n",
    "\n",
    "# output the values\n",
    "print('Mass water: {:.3f} g'.format(m_water))\n",
    "print('Mass ice: {:.3f} g'.format(m_ice))\n",
    "print('Temperature change of ice to its melting point: {:.1f} °C'.format(delta_T1_ice))\n",
    "print('Temperature change of melted ice to the final temperature: {:.1f} °C'.format(delta_T2_ice))\n",
    "print('Temperature change of the water to its final temperature: {:.1f} °C'.format(delta_T_water))"
   ]
  },
  {
   "cell_type": "markdown",
   "metadata": {},
   "source": [
    "### Calculate the the associated uncertainty values: *err_m_water*, *err_m_ice*, *err_delta_T1_ice*, *err_delta_T2_ice* and *err_delta_T_water*. **(2 marks each, 10 marks total)**"
   ]
  },
  {
   "cell_type": "code",
   "execution_count": 13,
   "metadata": {
    "scrolled": true
   },
   "outputs": [
    {
     "name": "stdout",
     "output_type": "stream",
     "text": [
      "Uncertainty in the mass of the water: 0.001414 g\n",
      "Uncertainty in the mass of the ice: 0.001414 g\n",
      "Uncertainty in the temperature change of ice to its melting point: 2.000000 °C\n",
      "Uncertainty in the temperature change of melted ice to the final temp.: 0.300000 °C\n",
      "Uncertainty in the temperature change of the water to its final temp.: 0.424264 °C\n"
     ]
    }
   ],
   "source": [
    "# initialise values\n",
    "err_M_CUP_C = 0.001\n",
    "err_M_CUP_WATER_C = 0.001\n",
    "err_M_CUP_WATER_ICE_C = 0.001\n",
    "err_T_WATER_C = 0.3\n",
    "err_T_ICE_C = 2.\n",
    "err_T_FINAL_C = 0.3\n",
    "err_cp_ice = 0.03\n",
    "\n",
    "# all the values were differences, so work with absolute errors\n",
    "err_m_water = np.sqrt(err_M_CUP_WATER_C ** 2 + err_M_CUP_C ** 2)\n",
    "err_m_ice = np.sqrt(err_M_CUP_WATER_ICE_C ** 2 + err_M_CUP_WATER_C ** 2)\n",
    "err_delta_T1_ice = np.sqrt(0 ** 2 + err_T_ICE_C ** 2)\n",
    "err_delta_T2_ice = np.sqrt(err_T_FINAL_C ** 2 + 0 ** 2)\n",
    "err_delta_T_water = np.sqrt(err_T_FINAL_C ** 2 + err_T_WATER_C ** 2)\n",
    "\n",
    "# output the values\n",
    "print('Uncertainty in the mass of the water: {:f} g'.format(err_m_water))\n",
    "print('Uncertainty in the mass of the ice: {:f} g'.format(err_m_ice))\n",
    "print('Uncertainty in the temperature change of ice to its melting point: {:f} °C'.format(err_delta_T1_ice))\n",
    "print('Uncertainty in the temperature change of melted ice to the final temp.: {:f} °C'.format(err_delta_T2_ice))\n",
    "print('Uncertainty in the temperature change of the water to its final temp.: {:f} °C'.format(err_delta_T_water))"
   ]
  },
  {
   "cell_type": "markdown",
   "metadata": {},
   "source": [
    "### Calculate the latent heat of fusion for water, *Hfus_water*. **(3 marks)**"
   ]
  },
  {
   "cell_type": "code",
   "execution_count": 14,
   "metadata": {
    "scrolled": true
   },
   "outputs": [
    {
     "name": "stdout",
     "output_type": "stream",
     "text": [
      "Heat of fusion for water: 329.736352 kJ kg⁻¹\n"
     ]
    }
   ],
   "source": [
    "# Calculate based on the equation you worked out\n",
    "Hfus_water = (m_ice * cp_ice * T_ICE_C - cp_water * (m_ice * T_FINAL_C + m_water * delta_T_water)) / m_ice\n",
    "\n",
    "# output the value\n",
    "print('Heat of fusion for water: {:f} kJ kg⁻¹'.format(Hfus_water))"
   ]
  },
  {
   "cell_type": "markdown",
   "metadata": {},
   "source": [
    "### Calculate the uncertainty in your determination, *err_Hfus_water*. **(10 marks)**"
   ]
  },
  {
   "cell_type": "code",
   "execution_count": 15,
   "metadata": {
    "scrolled": true
   },
   "outputs": [
    {
     "name": "stdout",
     "output_type": "stream",
     "text": [
      "[ -0.61517265  -4.446204    74.82636      5.9908632    0.19999695\n",
      " -92.4680736   69.7815888 ]\n",
      "Uncertainty in the heat of fusion of water: 7.641464 kJ kg⁻¹\n"
     ]
    }
   ],
   "source": [
    "# each component from equation 11 is worked out separately for clarity\n",
    "denom_C = m_ice\n",
    "num_C = np.zeros(7)\n",
    "num_C[0] = err_m_ice * cp_water * m_water * delta_T_water / m_ice\n",
    "num_C[1] = err_cp_ice * m_ice * T_ICE_C\n",
    "num_C[2] = err_T_ICE_C * m_ice * cp_ice\n",
    "num_C[3] = - err_cp_water * (m_ice * T_FINAL_C + m_water * delta_T_water)\n",
    "num_C[4] = - err_m_water * cp_water * delta_T_water\n",
    "num_C[5] = - err_T_FINAL_C * cp_water * (m_ice + m_water)\n",
    "num_C[6] = err_T_WATER_C * cp_water * m_water\n",
    "print(num_C)\n",
    "err_Hfus_water = np.sqrt(np.sum(num_C ** 2)) / abs(denom_C)\n",
    "print('Uncertainty in the heat of fusion of water: {:f} kJ kg⁻¹'.format(err_Hfus_water))"
   ]
  },
  {
   "cell_type": "markdown",
   "metadata": {},
   "source": [
    "### Replace the *Hfus_water* and *err_Hfus_water* to express the final latent heat value with its associated precision. Marks are awarded for correct rounding. **(2 marks)**"
   ]
  },
  {
   "cell_type": "markdown",
   "metadata": {},
   "source": [
    "(*329.7* ± *7.6*) kJ kg⁻¹"
   ]
  },
  {
   "cell_type": "markdown",
   "metadata": {},
   "source": [
    "### Explain how your value compares to the standard value for the heat of fusion of ice (334.744 kJ kg⁻¹), taking into account the uncertainty you determined for your measurement. **(1 mark)**"
   ]
  },
  {
   "cell_type": "markdown",
   "metadata": {},
   "source": [
    "<div class=\"alert alert-block alert-info\">\n",
    "    <strong>Reasons:</strong>\n",
    "    <ul>\n",
    "        <li>The answer does <em>not</em> capture the standard value.</li>\n",
    "        <li>There must be a systematic error.</li>\n",
    "    </ul>\n",
    "</div>"
   ]
  },
  {
   "cell_type": "markdown",
   "metadata": {},
   "source": [
    "### Suggest one possible source of systematic error in a test like this that's different from your other answer. **(1 mark)**"
   ]
  },
  {
   "cell_type": "markdown",
   "metadata": {},
   "source": [
    "<div class=\"alert alert-block alert-info\">\n",
    "    <br>\n",
    "    Reasons for systematic error \n",
    "        <ul>\n",
    "            <li>ice temperature not measured correctly</li>\n",
    "            <li>impurities in the ice affect <i>T</i><sub><small>fus</small></sub> and ∆<sub><small>fus</small></sub><i>H</i></li>\n",
    "             <li>The thermometer used in the experiment may be in contact with the styrofoam calorimeter. (Coffee cup Calorimeter with  a closed lid) </li>\n",
    "        </ul>\n",
    "        "
   ]
  },
  {
   "cell_type": "markdown",
   "metadata": {},
   "source": [
    "###  Suggest a way by which the size of the error could be tested. **(2 marks)**"
   ]
  },
  {
   "cell_type": "markdown",
   "metadata": {},
   "source": [
    "<div class=\"alert alert-block alert-info\">\n",
    "    <strong>Reasons</strong>\n",
    "    <br>\n",
    "        <ul>\n",
    "            <li>ice temperature not measured correctly: use another thermometer</li>\n",
    "            <li>salt in ice affect <i>T</i><sub><small>fus</small></sub> and ∆<sub><small>fus</small></sub>: chill ice another way, vary the amount of salt</li>\n",
    "            <li>ice above <i>T</i><sub><small>fus</small></sub>: get new ice, try again</li>\n",
    "            <li>all ice did not melt: need to use hotter water</li>\n",
    "        </ul>\n",
    "</div>"
   ]
  }
 ],
 "metadata": {
  "kernelspec": {
   "display_name": "Python 3",
   "language": "python",
   "name": "python3"
  },
  "language_info": {
   "codemirror_mode": {
    "name": "ipython",
    "version": 3
   },
   "file_extension": ".py",
   "mimetype": "text/x-python",
   "name": "python",
   "nbconvert_exporter": "python",
   "pygments_lexer": "ipython3",
   "version": "3.8.3"
  }
 },
 "nbformat": 4,
 "nbformat_minor": 4
}
